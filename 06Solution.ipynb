{
 "cells": [
  {
   "cell_type": "markdown",
   "metadata": {},
   "source": [
    "## CG"
   ]
  },
  {
   "cell_type": "code",
   "execution_count": 1,
   "metadata": {},
   "outputs": [],
   "source": [
    "import numpy as np\n",
    "from numpy.linalg import norm\n",
    "\n",
    "def cg(Q, b, x, tol=1e-9, max_it = 30000, callback=None):    \n",
    "    \"\"\"Conjugate gradient algorithm\n",
    "    \n",
    "    Solves the problem \n",
    "    min xQx/2. + xb\n",
    "    \n",
    "    Parameters:\n",
    "        Q: ndarray, positive definite, symmetric matrix Q\n",
    "        b: ndarray, negative right side\n",
    "        x: ndarray, start value\n",
    "        tol: [float], gradient norm tolerance\n",
    "        maxit: [int], maximum number of iterations\n",
    "        callback: [callable], Callback function\n",
    "    Returns:\n",
    "        ndarray, solution\n",
    "    \"\"\"\n",
    "    n = b.size    \n",
    "    beta = 0\n",
    "    p = np.zeros(n)\n",
    "    r = Q@x + b\n",
    "    res_new  = norm(r)\n",
    "    k=0   \n",
    "    while res_new >= tol and k < max_it:\n",
    "        k+=1\n",
    "        p = -r + beta*p\n",
    "        alpha = res_new**2 / p.dot(Q@p)\n",
    "        if not callback is None:\n",
    "            callback(x)\n",
    "        x = x + alpha*p\n",
    "        r = r + alpha*(Q@p)\n",
    "        res_old = res_new\n",
    "        res_new = norm(r)\n",
    "        beta = res_new**2/res_old**2\n",
    "    if not callback is None:\n",
    "        callback(x)\n",
    "    if k==max_it:\n",
    "        print(\"Algorithm reached max iterations!\")\n",
    "    return  x"
   ]
  },
  {
   "cell_type": "code",
   "execution_count": null,
   "metadata": {},
   "outputs": [],
   "source": []
  },
  {
   "cell_type": "code",
   "execution_count": 2,
   "metadata": {},
   "outputs": [
    {
     "name": "stdout",
     "output_type": "stream",
     "text": [
      "\n",
      "Test cg on xQx+b.\n",
      "Matrix Q\n",
      "\n",
      " [[0.5 1. ]\n",
      " [1.  5. ]]\n",
      "\n",
      "Right hand side b\n",
      " [-1. -1.]\n",
      "Iterations:  2\n",
      "Iterates:\n",
      " [[ 0.          0.        ]\n",
      " [-0.26666667 -0.26666667]\n",
      " [-2.66666667  0.33333333]]\n",
      "\n",
      "Test:\n",
      "Qx = [-1. -1.]\n"
     ]
    },
    {
     "data": {
      "text/plain": [
       "<Figure size 640x480 with 1 Axes>"
      ]
     },
     "metadata": {},
     "output_type": "display_data"
    }
   ],
   "source": [
    "from cg_test import CallBack\n",
    "\n",
    "print(\"\\nTest cg on xQx+b.\")\n",
    "Q = np.array([[1, 2], [2, 10]])/2\n",
    "print(\"Matrix Q\\n\\n\", Q)\n",
    "b = np.array([1.,1.])\n",
    "print(\"\\nRight hand side b\\n\", -b)\n",
    "x0 = np.array([0.,0.])\n",
    "\n",
    "def fQ(x):\n",
    "    return x@Q@x/2 +b@x\n",
    "\n",
    "callback=CallBack()\n",
    "sol_cg = cg(Q,b,x0,callback=callback)\n",
    "\n",
    "print(\"Iterations: \", callback.getxk().shape[0]-1)\n",
    "print(\"Iterates:\\n\", callback.getxk())\n",
    "print(\"\\nTest:\\nQx =\", Q@sol_cg)\n",
    "callback.plot(lambda x: x@Q@x/2 + b@x, xmin=-4, xmax=2.)"
   ]
  },
  {
   "cell_type": "markdown",
   "metadata": {},
   "source": [
    "### Solving singular systems\n",
    "\n",
    "Use the CG-implementation in \\verb|numopt_version03.ipynb| to solve the problem\n",
    "$$\n",
    "    \\min \\limits_{x} x^\\top Q x + x^Tb,\n",
    "$$ \n",
    "where \n",
    "\\begin{align*}\n",
    "    \\begin{pmatrix}\n",
    "        1  \t\t\t& -1 \t&   0  \t& 0   \t\t& 0\t\t\t&\\dots\t\\\\\n",
    "        -1 \t\t\t&  2 \t&  -1 \t& 0 \t\t&  0 \t\t&\\dots\t\\\\\n",
    "        0  \t\t\t&  -1\t&   2 \t& -1      \t& 0\t\t\t& \\dots\t\\\\\n",
    "                    &  \t\t&\\ddots & \\ddots  \t& \\ddots    &\t\\\\\n",
    "                    &\\dots\t&\t0\t&   -1\t\t&   2\t\t& -1\t\t\\\\\n",
    "                    &\\dots & \t0\t&   0    \t& -1\t\t& 1\n",
    "    \\end{pmatrix}\n",
    "    \\in \\mathbb{R}^{50000 \\times 50000}\n",
    "\\end{align*}\n",
    "and $b = (1, -1, 1, -1, \\dots) \\in \\mathbb{R}^{50000}$. \n",
    "    \n",
    "**Note $Q$ is a singular matrix, however \n",
    "$b \\in $ Im$(Q)$!**\n",
    "    \n",
    " It is possible to set up a linear operator class which can be used together with Python's @-Operator."
   ]
  },
  {
   "cell_type": "code",
   "execution_count": 3,
   "metadata": {},
   "outputs": [
    {
     "name": "stdout",
     "output_type": "stream",
     "text": [
      "The mean of b is:  0.0\n",
      "Iterations:  25001\n",
      "\n",
      "Test:\n",
      "Qx = 1.3798086624340779e-08\n"
     ]
    }
   ],
   "source": [
    "import scipy.sparse.linalg as sp\n",
    "\n",
    "class neumann_type_matproduct:\n",
    "    def __init__(self, size):\n",
    "        self.shape = (size, size) \n",
    "        \n",
    "    def matvec(self, x):\n",
    "        n = self.shape[0]           \n",
    "        u_right = np.zeros(n, dtype=np.float)\n",
    "        u_left = np.zeros(n, dtype=np.float)\n",
    "        u_center = np.zeros(n, dtype=np.float)\n",
    "\n",
    "        u_right[:-1] = -x[1:]\n",
    "        u_left[1:] = -x[:-1]\n",
    "        u_center[1:-1] = 2*x[1:-1]\n",
    "        u_center[0] = x[0]\n",
    "        u_center[-1] = x[-1]\n",
    "        \n",
    "        return u_left + u_center + u_right\n",
    "\n",
    "size = 50000\n",
    "\n",
    "# Set up matrix opbject which can be used with the @-operator\n",
    "# the row sums of Q are 0, so the system has a non-trivial kernel!\n",
    "Q = sp.aslinearoperator(neumann_type_matproduct(size))\n",
    "\n",
    "# Right hand side with mean 0\n",
    "b = np.ones(size)\n",
    "b[1::2] = -1\n",
    "print(\"The mean of b is: \", np.mean(b))\n",
    "\n",
    "# Starting value for the cg 0\n",
    "x0 = np.zeros(size)\n",
    "\n",
    "callback=CallBack()\n",
    "sol_cg = cg(Q,b,x0,callback=callback)\n",
    "\n",
    "print(\"Iterations: \", callback.getxk().shape[0]-1)\n",
    "print(\"\\nTest:\\nQx =\", np.linalg.norm(Q@sol_cg + b))"
   ]
  },
  {
   "cell_type": "markdown",
   "metadata": {},
   "source": [
    "The problem can be solved without any effort, because the right hand side $b \\in$Im$(Q)$ so that the residuals are always in the Krylov-Subspace. This is all we need. So the CG-method can find the solution for consistent (i.e. solvable) problems even if the system matrix $Q$ is singular! "
   ]
  },
  {
   "cell_type": "markdown",
   "metadata": {},
   "source": [
    "## Jacobi preconditioned CG"
   ]
  },
  {
   "cell_type": "code",
   "execution_count": 4,
   "metadata": {},
   "outputs": [
    {
     "name": "stdout",
     "output_type": "stream",
     "text": [
      "\n",
      "n = 10 ----------------------------\n",
      "Condition number of Q\t 1.00e+01\n",
      "Iterations of CG:  10\n",
      "Wallclock time:  7.25e-02\n",
      "\n",
      "Condition number of DQD\t 1.00e+00\n",
      "Iterations of Jacobi PCG:  1\n",
      "Wallclock time:  2.32e-04\n",
      "\n",
      "n = 50 ----------------------------\n",
      "Condition number of Q\t 5.00e+01\n",
      "Iterations of CG:  44\n",
      "Wallclock time:  2.30e-03\n",
      "\n",
      "Condition number of DQD\t 1.00e+00\n",
      "Iterations of Jacobi PCG:  1\n",
      "Wallclock time:  4.00e-04\n",
      "\n",
      "n = 250 ----------------------------\n",
      "Condition number of Q\t 2.50e+02\n",
      "Iterations of CG:  108\n",
      "Wallclock time:  2.96e-02\n",
      "\n",
      "Condition number of DQD\t 1.00e+00\n",
      "Iterations of Jacobi PCG:  1\n",
      "Wallclock time:  9.40e-03\n",
      "\n",
      "n = 1250 ----------------------------\n",
      "Condition number of Q\t 1.25e+03\n",
      "Iterations of CG:  249\n",
      "Wallclock time:  2.19e+00\n",
      "\n",
      "Condition number of DQD\t 1.00e+00\n",
      "Iterations of Jacobi PCG:  1\n",
      "Wallclock time:  6.93e-01\n"
     ]
    }
   ],
   "source": [
    "import time \n",
    "\n",
    "for n in [10, 50, 250, 1250]:\n",
    "    #print(scale)\n",
    "    #Q = np.eye(n)*scale# + 2*np.eye(n, k=1)*scale\n",
    "    \n",
    "    Q = np.diag(np.arange(1,n+1))\n",
    "    #Q = 2* np.eye(n)/(n-1)**2 - 2*np.eye(n, k=1)/(n-1)**2\n",
    "    #Q = (Q + Q.T)/2.\n",
    "\n",
    "    #print(Q)\n",
    "\n",
    "    b = np.ones(n)\n",
    "    x0 = b\n",
    "    print(\"\\nn =\",n,\"----------------------------\")\n",
    "    # Condition number\n",
    "    print(\"Condition number of Q\\t {0:1.2e}\".format(np.linalg.cond(Q)))\n",
    "    callback=CallBack()\n",
    "    start = time.time()\n",
    "    sol_cg = cg(Q,b,x0,callback=callback)\n",
    "    wct = time.time() - start\n",
    "    print(\"Iterations of CG: \", callback.getxk().shape[0]-1)\n",
    "    print(\"Wallclock time: \", \"{0:1.2e}\".format(wct))\n",
    "    print(\"\")\n",
    "    \n",
    "    start = time.time()\n",
    "    # Preconditioner\n",
    "    D = np.sqrt(np.diag(1/np.diag(Q))) \n",
    "    print(\"Condition number of DQD\\t {0:1.2e}\".format(np.linalg.cond(D@Q@D)))\n",
    "    callback=CallBack()\n",
    "    sol_cg = cg(D@Q@D, D@b, x0, callback=callback)\n",
    "    wct = time.time() - start\n",
    "    print(\"Iterations of Jacobi PCG: \", callback.getxk().shape[0]-1)\n",
    "    print(\"Wallclock time: \", \"{0:1.2e}\".format(wct))\n",
    "\n",
    "    #print(\"\\n Solution: \", Q@D@sol_cg)"
   ]
  },
  {
   "cell_type": "markdown",
   "metadata": {},
   "source": [
    "## Nonlinear CG"
   ]
  },
  {
   "cell_type": "code",
   "execution_count": 5,
   "metadata": {},
   "outputs": [],
   "source": [
    "from scipy.optimize import root_scalar\n",
    "from cg_test import grad\n",
    "\n",
    "def nlcg(f, x, tol=1e-9, max_it = 1000, callback=None):\n",
    "    n = x.size    \n",
    "    beta = 0\n",
    "    p = np.zeros(n)\n",
    "    r=grad(f,x) #r = Q(x) + b # Replace residual by gradient\n",
    "    res_new  = norm(r)\n",
    "    k=0   \n",
    "    while res_new >= tol and k < max_it:\n",
    "        k+=1\n",
    "        p = -r + beta*p\n",
    "        # Replace alpha by linesearch\n",
    "        #alpha = res_new**2 / p.dot(Q(p))\n",
    "        alpha = root_scalar(f=lambda alpha: grad(f, x+alpha*p)@p, x0=0, x1=2, method=\"secant\").root \n",
    "        if not callback is None:\n",
    "            callback(x)\n",
    "        x = x + alpha*p\n",
    "        r_old = r\n",
    "        r = grad(f,x) #r = r + alpha*Q(p) # Replace residual by gradient\n",
    "        res_old = res_new\n",
    "        res_new = norm(r)\n",
    "        betaPR = (r@(r-r_old))/res_new\n",
    "        # Replace beta by Polak Ribere formula\n",
    "        beta = max(0,betaPR)*(0!=k%n) #beta = res_new**2/res_old**2\n",
    "        # The term *(0!=k%n) restarts the algorithm after #dim iterations.\n",
    "    if not callback is None:\n",
    "        callback(x)\n",
    "    if k==max_it:\n",
    "        print(\"Algorithm reached max iterations!\")\n",
    "    return  x"
   ]
  },
  {
   "cell_type": "code",
   "execution_count": 6,
   "metadata": {},
   "outputs": [
    {
     "name": "stderr",
     "output_type": "stream",
     "text": [
      "/home/klar/.venv/lib/python3.6/site-packages/scipy/optimize/zeros.py:343: RuntimeWarning: Tolerance of -1.7472061131229566e-08 reached.\n",
      "  warnings.warn(msg, RuntimeWarning)\n"
     ]
    },
    {
     "name": "stdout",
     "output_type": "stream",
     "text": [
      "Iterations:  98\n",
      "Test:\n",
      " 1.3201517317246784e-19\n"
     ]
    },
    {
     "data": {
      "image/png": "[encoded data removed]",
      "text/plain": [
       "<Figure size 432x288 with 1 Axes>"
      ]
     },
     "metadata": {
      "needs_background": "light"
     },
     "output_type": "display_data"
    }
   ],
   "source": [
    "from cg_test import CallBack\n",
    "\n",
    "def frosenbrock(z):\n",
    "    \"\"\"Rosenbrock function\n",
    "    Parameters:\n",
    "        z: nd_array, 2-D input value\n",
    "    Returns:\n",
    "        float\"\"\"\n",
    "    x,y = z\n",
    "    return (1-x)**2 + 100*(y- x**2)**2\n",
    "\n",
    "callback=CallBack()\n",
    "x0=np.zeros(2)\n",
    "\n",
    "sol_nlcg = nlcg(frosenbrock,x0,callback=callback)j\n",
    "print(\"Iterations: \", callback.getxk().shape[0])\n",
    "#print(\"Iterates:\\n\", callback.getxk())\n",
    "print(\"Test:\\n\", frosenbrock(sol_nlcg))\n",
    "callback.plot(frosenbrock)"
   ]
  },
  {
   "cell_type": "code",
   "execution_count": 7,
   "metadata": {},
   "outputs": [
    {
     "name": "stdout",
     "output_type": "stream",
     "text": [
      "\n",
      "# Test cg on xQx+b.\n",
      "Matrix Q\n",
      "\n",
      " [[0.5 1. ]\n",
      " [1.  5. ]]\n",
      "\n",
      "Right hand side -b\n",
      " [-1. -1.]\n",
      "\n",
      "Test (should be equal to -b):\n",
      "Qx = [-1. -1.]\n",
      "\n",
      "# Test nlcg on Rosenbrock function.\n",
      "Test (should be 0):\n",
      " 1.3201517317246784e-19\n"
     ]
    }
   ],
   "source": [
    "from cg_test import test\n",
    "\n",
    "test(cg)\n",
    "test(nlcg)"
   ]
  },
  {
   "cell_type": "code",
   "execution_count": null,
   "metadata": {},
   "outputs": [],
   "source": []
  }
 ],
 "metadata": {
  "kernelspec": {
   "display_name": "Python 3",
   "language": "python",
   "name": "python3"
  },
  "language_info": {
   "codemirror_mode": {
    "name": "ipython",
    "version": 3
   },
   "file_extension": ".py",
   "mimetype": "text/x-python",
   "name": "python",
   "nbconvert_exporter": "python",
   "pygments_lexer": "ipython3",
   "version": "3.6.9"
  }
 },
 "nbformat": 4,
 "nbformat_minor": 4
}
