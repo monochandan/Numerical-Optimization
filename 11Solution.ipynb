{
 "cells": [
  {
   "cell_type": "markdown",
   "metadata": {},
   "source": [
    "### Uzawa"
   ]
  },
  {
   "cell_type": "code",
   "execution_count": 1,
   "metadata": {},
   "outputs": [],
   "source": [
    "import numpy as np\n",
    "from numpy.linalg import norm\n",
    "import matplotlib.pyplot as plt\n",
    "from scipy.sparse.linalg import cg\n",
    "from scipy.sparse.linalg import aslinearoperator\n",
    "from numpy.linalg import solve \n",
    "\n",
    "def uzawa(B, C, b, c, x, lmbda, tau):\n",
    "    res_list = []\n",
    "    its = 0\n",
    "    while True:\n",
    "        res = norm(B.dot(x) + lmbda.dot(C) +b) + norm(C.dot(x) + c)\n",
    "        #print(res)\n",
    "        \n",
    "        if res < 1e-8:\n",
    "            break\n",
    "        x = - solve(B, lmbda.dot(C) + b)\n",
    "        lmbda = lmbda + tau * (C.dot(x) + c)\n",
    "        its += 1\n",
    "        res_list.append(res)\n",
    "    return {\"x\": x, \"lmbda\": lmbda, \"res_list\": res_list, \"its\": its}\n",
    "\n",
    "\n",
    "def run_test():\n",
    "    B = np.array([[3, 2, 1.], [2, 2, 0], [1, 0, 2]])\n",
    "    C = np.array([[1, -2., 1], [-1, 1, -1]])\n",
    "    b = np.zeros(3)\n",
    "    c = np.array([3., -2.])\n",
    "\n",
    "    x0 = np.array([0., 0., 0.])  # Startwert\n",
    "    lmbda0 = np.array([0., 0.])  # Startwert\n",
    "    tau = 0.05\n",
    "\n",
    "    sol = uzawa(B, C, b, c, x0, lmbda0, tau)\n",
    "    \n",
    "    print(sol[\"x\"])\n",
    "    print(sol[\"its\"])\n",
    "    plt.plot(sol[\"res_list\"])\n",
    "    plt.yscale(\"log\")\n",
    "    plt.show()"
   ]
  },
  {
   "cell_type": "code",
   "execution_count": 2,
   "metadata": {},
   "outputs": [
    {
     "name": "stdout",
     "output_type": "stream",
     "text": [
      "[-1.00000000e+00  1.00000001e+00  2.33795119e-08]\n",
      "4524\n"
     ]
    },
    {
     "data": {
      "image/png": "[encoded data removed]",
      "text/plain": [
       "<Figure size 432x288 with 1 Axes>"
      ]
     },
     "metadata": {
      "needs_background": "light"
     },
     "output_type": "display_data"
    }
   ],
   "source": [
    "run_test()"
   ]
  },
  {
   "cell_type": "code",
   "execution_count": null,
   "metadata": {},
   "outputs": [],
   "source": [
    "run_test()"
   ]
  },
  {
   "cell_type": "code",
   "execution_count": null,
   "metadata": {},
   "outputs": [],
   "source": []
  }
 ],
 "metadata": {
  "kernelspec": {
   "display_name": "Python 3",
   "language": "python",
   "name": "python3"
  },
  "language_info": {
   "codemirror_mode": {
    "name": "ipython",
    "version": 3
   },
   "file_extension": ".py",
   "mimetype": "text/x-python",
   "name": "python",
   "nbconvert_exporter": "python",
   "pygments_lexer": "ipython3",
   "version": "3.6.9"
  }
 },
 "nbformat": 4,
 "nbformat_minor": 2
}
