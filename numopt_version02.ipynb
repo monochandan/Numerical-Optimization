{
 "cells": [
  {
   "cell_type": "markdown",
   "metadata": {},
   "source": [
    "# This is a collection of python examples for \n",
    "# Numerical Optimization (Prof. Dr. Volker Schulz)"
   ]
  },
  {
   "cell_type": "markdown",
   "metadata": {},
   "source": [
    "# chapter 2 SVM example code"
   ]
  },
  {
   "cell_type": "code",
   "execution_count": 2,
   "metadata": {},
   "outputs": [
    {
     "name": "stdout",
     "output_type": "stream",
     "text": [
      "Using matplotlib backend: TkAgg\n",
      "[0]\n",
      "[1]\n",
      "[0]\n",
      "[0]\n"
     ]
    },
    {
     "name": "stderr",
     "output_type": "stream",
     "text": [
      "/home/klar/.venv/lib/python3.6/site-packages/sklearn/svm/base.py:196: FutureWarning: The default value of gamma will change from 'auto' to 'scale' in version 0.22 to account better for unscaled features. Set gamma explicitly to 'auto' or 'scale' to avoid this warning.\n",
      "  \"avoid this warning.\", FutureWarning)\n"
     ]
    }
   ],
   "source": [
    "%matplotlib\n",
    "# from scikit learn documentation\n",
    "#\n",
    "import numpy as np\n",
    "import matplotlib.pyplot as plt\n",
    "from sklearn import svm\n",
    "from sklearn.datasets import make_blobs, make_classification\n",
    "\n",
    "\n",
    "# we create 50 separable points in blobs\n",
    "X, y = make_blobs(n_samples=50, centers=2, random_state=3)\n",
    "\n",
    "# fit the model, don't regularize for illustration purposes\n",
    "clf = svm.SVC(kernel='rbf', C=0.3)\n",
    "\n",
    "# create not nicely separable points\n",
    "X, y = make_classification(n_samples=50,n_features=2, n_redundant=0, n_informative=2,\n",
    "                            n_clusters_per_class=1,random_state=10)\n",
    "#clf = svm.SVC(kernel='rbf', C=0.01)\n",
    "#choose from ‘linear’, ‘poly’, ‘rbf’, ‘sigmoid’, \n",
    "\n",
    "clf.fit(X, y)\n",
    "\n",
    "# after being fitted, the model can then be used to predict new values:\n",
    "print(clf.predict([[-6, -2]]))\n",
    "print(clf.predict([[-2, -1]]))\n",
    "print(clf.predict([[2, 1]])) \n",
    "print(clf.predict([[5, 6]])) \n",
    "\n",
    "\n",
    "plt.scatter(X[:, 0], X[:, 1], c=y, s=30, cmap=plt.cm.Paired)\n",
    "\n",
    "# plot the decision function\n",
    "ax = plt.gca()\n",
    "xlim = ax.get_xlim()\n",
    "ylim = ax.get_ylim()\n",
    " \n",
    "# create grid to evaluate model\n",
    "xx = np.linspace(xlim[0], xlim[1], 50)\n",
    "yy = np.linspace(ylim[0], ylim[1], 50)\n",
    "YY, XX = np.meshgrid(yy, xx)\n",
    "xy = np.vstack([XX.ravel(), YY.ravel()]).T\n",
    "Z = clf.decision_function(xy).reshape(XX.shape)\n",
    "\n",
    "# plot decision boundary and margins\n",
    "ax.contour(XX, YY, Z, colors='k', levels=[-1, 0, 1], alpha=0.5,\n",
    "           linestyles=['--', '-', '--'])\n",
    "# plot support vectors\n",
    "ax.scatter(clf.support_vectors_[:, 0], clf.support_vectors_[:, 1], s=100,\n",
    "           linewidth=1, facecolors='none', edgecolors='k')\n",
    "plt.show()\n"
   ]
  },
  {
   "cell_type": "markdown",
   "metadata": {},
   "source": [
    "## chapter 2 3D pic for SVM illustration"
   ]
  },
  {
   "cell_type": "code",
   "execution_count": 15,
   "metadata": {},
   "outputs": [
    {
     "name": "stdout",
     "output_type": "stream",
     "text": [
      "Using matplotlib backend: TkAgg\n"
     ]
    }
   ],
   "source": [
    "%matplotlib\n",
    "import numpy as np\n",
    "import matplotlib.pyplot as plt\n",
    "from mpl_toolkits.mplot3d import Axes3D\n",
    "import matplotlib.cm as cm\n",
    "\n",
    "s2=np.sqrt(2.0)\n",
    "\n",
    "L, n = 2.5, 400\n",
    "x = np.linspace(-L, L, n)\n",
    "y = x.copy()\n",
    "X, Y = np.meshgrid(x, y)\n",
    "\n",
    "\n",
    "# Compute random points\n",
    "N = 100\n",
    "rho = np.random.rand(N)\n",
    "phi = 2 * np.pi * np.random.rand(N)\n",
    "xb = rho * np.cos(phi)\n",
    "yb = rho * np.sin(phi)\n",
    "rho = np.random.rand(N)+1.5\n",
    "phi = 2 * np.pi * np.random.rand(N)\n",
    "xr = rho * np.cos(phi)\n",
    "yr = rho * np.sin(phi)\n",
    "\n",
    "\n",
    "# Set up a figure twice as wide as it is tall\n",
    "fig = plt.figure(figsize=plt.figaspect(0.5))\n",
    "ax = fig.add_subplot(1, 2, 1)\n",
    "ax.plot(xb, yb, 'bo',\n",
    "        xr, yr, 'ro')\n",
    "ax.grid(True)\n",
    "ax = fig.add_subplot(1, 2, 2, projection='3d')\n",
    "surf = ax.plot_surface(X*X, Y*Y, s2*X*Y, rstride=20, cstride=20, cmap=cm.hot, alpha=0.25)\n",
    "ax.scatter(xb*xb, yb*yb, s2*xb*yb, color = 'blue')\n",
    "ax.scatter(xr*xr, yr*yr, s2*xr*yr, color = 'red')\n",
    "\n",
    "plt.show()"
   ]
  },
  {
   "cell_type": "markdown",
   "metadata": {},
   "source": [
    "## chapter 3  illustration of convergence speeds"
   ]
  },
  {
   "cell_type": "code",
   "execution_count": 3,
   "metadata": {},
   "outputs": [
    {
     "name": "stderr",
     "output_type": "stream",
     "text": [
      "/Users/volkerschulz/opt/anaconda3/lib/python3.7/site-packages/ipykernel_launcher.py:7: RuntimeWarning: overflow encountered in power\n",
      "  import sys\n"
     ]
    },
    {
     "data": {
      "image/png": "[encoded data removed]",
      "text/plain": [
       "<Figure size 432x288 with 1 Axes>"
      ]
     },
     "metadata": {
      "needs_background": "light"
     },
     "output_type": "display_data"
    }
   ],
   "source": [
    "from numpy import *\n",
    "import math\n",
    "import matplotlib.pyplot as plt\n",
    "\n",
    "Max = 200\n",
    "t = range(1, Max)\n",
    "a = 0.9**(power(2,t))        # quadratic       red\n",
    "b=ones(size(t))\n",
    "b[0]=0.9\n",
    "for k in range(1, Max-1):\n",
    "    b[k] = b[k-1]/sqrt(k)    # superlinear     blue\n",
    "c = power(0.9,t)             # linear          green\n",
    "d = 0.9/(power(t,2))         # sublinear 2     cyan \n",
    "e = [0.9/k for k in t]       # sublinear 1     magenta\n",
    "f = 0.9/sqrt(t)              # sublinear 1/2   black\n",
    "\n",
    "#plt.xscale(\"log\")\n",
    "#plt.yscale(\"log\")\n",
    "plt.ylim(10**(-12), 1)\n",
    "plt.plot(t, a, 'r') \n",
    "plt.plot(t, b, 'b')  \n",
    "plt.plot(t, c, 'g')  \n",
    "plt.plot(t, d, 'c')  \n",
    "plt.plot(t, e, 'm')  \n",
    "plt.plot(t, f, 'k') \n",
    "plt.show()"
   ]
  },
  {
   "cell_type": "code",
   "execution_count": null,
   "metadata": {},
   "outputs": [],
   "source": []
  }
 ],
 "metadata": {
  "kernelspec": {
   "display_name": "Python 3",
   "language": "python",
   "name": "python3"
  },
  "language_info": {
   "codemirror_mode": {
    "name": "ipython",
    "version": 3
   },
   "file_extension": ".py",
   "mimetype": "text/x-python",
   "name": "python",
   "nbconvert_exporter": "python",
   "pygments_lexer": "ipython3",
   "version": "3.6.9"
  }
 },
 "nbformat": 4,
 "nbformat_minor": 4
}
