{
 "cells": [
  {
   "cell_type": "code",
   "execution_count": 1,
   "metadata": {},
   "outputs": [
    {
     "name": "stdout",
     "output_type": "stream",
     "text": [
      "99 163.0276699708173\n",
      "199 145.4052640206394\n",
      "299 133.5119551542433\n",
      "399 124.68579195589811\n",
      "499 117.77546449877762\n",
      "Result: y = 1.9371156845184314, 3.991318800437681, -1.0642888852988526, 2.1191584095320586\n"
     ]
    }
   ],
   "source": [
    "# -*- coding: utf-8 -*-\n",
    "import numpy as np\n",
    "import math\n",
    "\n",
    "def sigmoidal(x):\n",
    "    return 1/(1 + np.exp(-x))\n",
    "\n",
    "def dsigmoidal(x):\n",
    "    s = sigmoidal(x)\n",
    "    return s*(1 - s)\n",
    "\n",
    "def observation(x):\n",
    "    #return sigmoidal(.2 -1.*x)\n",
    "    return np.sign(x+0.5)\n",
    "\n",
    "def f(params):\n",
    "    a, b, c, d = params\n",
    "    y_pred = c + d * sigmoidal(a + b * x)\n",
    "    loss =  np.square(y_pred - y).sum()\n",
    "    return loss\n",
    "\n",
    "# Create random input and output data\n",
    "x = np.linspace(-math.pi, math.pi, 2000)\n",
    "y = observation(x) #np.sin(x-.5)\n",
    "\n",
    "# Randomly initialize weights\n",
    "a = np.random.randn()\n",
    "b = np.random.randn()\n",
    "c = np.random.randn()\n",
    "d = np.random.randn()\n",
    "\n",
    "learning_rate = 1e-4\n",
    "for t in range(500):\n",
    "    # Forward pass: compute predicted y\n",
    "    # y = a + b x + c x^2 + d x^3\n",
    "    #y_pred = a + b * x + c * x ** 2 + d * x ** 3\n",
    "    y_pred = c + d * sigmoidal(a + b * x)\n",
    "    \n",
    "    # Compute and print loss\n",
    "    loss = np.square(y_pred - y).sum()\n",
    "    if t % 100 == 99:\n",
    "        print(t, loss)\n",
    "\n",
    "    # Backprop to compute gradients of a, b, c, d with respect to loss\n",
    "    grad_y_pred = 2.0 * (y_pred - y)\n",
    "    grad_a = grad_y_pred.dot(dsigmoidal(a + b * x)) * d\n",
    "    grad_b = grad_y_pred.dot(dsigmoidal(a + b * x) * x) * d\n",
    "    grad_c = (grad_y_pred).sum()\n",
    "    grad_d = grad_y_pred.dot(sigmoidal(a + b * x))\n",
    "\n",
    "    # Update weights\n",
    "    a -= learning_rate * grad_a\n",
    "    b -= learning_rate * grad_b #* 2e-1\n",
    "    c -= learning_rate * grad_c\n",
    "    d -= learning_rate * grad_d\n",
    "\n",
    "print(f'Result: y = {a}, {b}, {c}, {d}')"
   ]
  },
  {
   "cell_type": "code",
   "execution_count": 3,
   "metadata": {},
   "outputs": [
    {
     "data": {
      "image/png": "[encoded data removed]",
      "text/plain": [
       "<Figure size 432x288 with 1 Axes>"
      ]
     },
     "metadata": {
      "needs_background": "light"
     },
     "output_type": "display_data"
    }
   ],
   "source": [
    "import matplotlib.pyplot as plt\n",
    "\n",
    "#y = lambda x: a + b*x + c*x**2 + d*x**3\n",
    "y = lambda x: c + d*sigmoidal(a + b * x)\n",
    "t = np.linspace(-math.pi, math.pi, 100)\n",
    "plt.plot(t, observation(t))\n",
    "plt.plot(t, y(t))\n",
    "plt.show()"
   ]
  },
  {
   "cell_type": "code",
   "execution_count": null,
   "metadata": {},
   "outputs": [],
   "source": []
  },
  {
   "cell_type": "code",
   "execution_count": null,
   "metadata": {},
   "outputs": [],
   "source": []
  },
  {
   "cell_type": "code",
   "execution_count": null,
   "metadata": {},
   "outputs": [],
   "source": []
  }
 ],
 "metadata": {
  "kernelspec": {
   "display_name": "Python 3",
   "language": "python",
   "name": "python3"
  },
  "language_info": {
   "codemirror_mode": {
    "name": "ipython",
    "version": 3
   },
   "file_extension": ".py",
   "mimetype": "text/x-python",
   "name": "python",
   "nbconvert_exporter": "python",
   "pygments_lexer": "ipython3",
   "version": "3.6.9"
  }
 },
 "nbformat": 4,
 "nbformat_minor": 4
}
